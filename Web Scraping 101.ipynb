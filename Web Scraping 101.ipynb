{
 "cells": [
  {
   "cell_type": "markdown",
   "id": "cc7d90b0",
   "metadata": {},
   "source": [
    "## Install and import the libraries and modules we need -"
   ]
  },
  {
   "cell_type": "code",
   "execution_count": 1,
   "id": "ce2a820f",
   "metadata": {},
   "outputs": [
    {
     "name": "stdout",
     "output_type": "stream",
     "text": [
      "Requirement already satisfied: beautifulsoup4 in c:\\users\\tiwari aishwarya\\anaconda3\\lib\\site-packages (4.11.1)\n",
      "Requirement already satisfied: soupsieve>1.2 in c:\\users\\tiwari aishwarya\\anaconda3\\lib\\site-packages (from beautifulsoup4) (2.3.1)\n",
      "Note: you may need to restart the kernel to use updated packages.\n"
     ]
    }
   ],
   "source": [
    "pip install beautifulsoup4"
   ]
  },
  {
   "cell_type": "code",
   "execution_count": 2,
   "id": "2d6aded8",
   "metadata": {},
   "outputs": [
    {
     "name": "stdout",
     "output_type": "stream",
     "text": [
      "Requirement already satisfied: lxml in c:\\users\\tiwari aishwarya\\anaconda3\\lib\\site-packages (4.8.0)\n",
      "Note: you may need to restart the kernel to use updated packages.\n"
     ]
    }
   ],
   "source": [
    "pip install lxml"
   ]
  },
  {
   "cell_type": "code",
   "execution_count": null,
   "id": "57691cc5",
   "metadata": {},
   "outputs": [],
   "source": [
    "pip install requests"
   ]
  },
  {
   "cell_type": "code",
   "execution_count": 19,
   "id": "4be3a901",
   "metadata": {},
   "outputs": [],
   "source": [
    "from bs4 import BeautifulSoup\n",
    "import requests"
   ]
  },
  {
   "cell_type": "markdown",
   "id": "86b43f72",
   "metadata": {},
   "source": [
    "## Begin by scraping from a locally available html file - home.html"
   ]
  },
  {
   "cell_type": "code",
   "execution_count": 44,
   "id": "5f0412e4",
   "metadata": {},
   "outputs": [
    {
     "name": "stdout",
     "output_type": "stream",
     "text": [
      "What does the html file contain? \n",
      " <!doctype html>\n",
      "<html lang=\"en\">\n",
      "   <head>\n",
      "      <meta charset=\"utf-8\">\n",
      "      <meta name=\"viewport\" content=\"width=device-width, initial-scale=1, shrink-to-fit=no\">\n",
      "      <link rel=\"stylesheet\" href=\"https://stackpath.bootstrapcdn.com/bootstrap/4.5.2/css/bootstrap.min.css\" integrity=\"sha384-JcKb8q3iqJ61gNV9KGb8thSsNjpSL0n8PARn9HuZOnIxN0hoP+VmmDGMN5t9UJ0Z\" crossorigin=\"anonymous\">\n",
      "      <title>My Courses</title>\n",
      "   </head>\n",
      "   <body>\n",
      "      <h1>Hello, Start Learning!</h1>\n",
      "      <div class=\"card\" id=\"card-python-for-beginners\">\n",
      "         <div class=\"card-header\">\n",
      "            Python\n",
      "         </div>\n",
      "         <div class=\"card-body\">\n",
      "            <h5 class=\"card-title\">Python for beginners</h5>\n",
      "            <p class=\"card-text\">If you are new to Python, this is the course that you should buy!</p>\n",
      "            <a href=\"#\" class=\"btn btn-primary\">Start for 20$</a>\n",
      "         </div>\n",
      "      </div>\n",
      "      <div class=\"card\" id=\"card-python-web-development\">\n",
      "         <div class=\"card-header\">\n",
      "            Python\n",
      "         </div>\n",
      "         <div class=\"card-body\">\n",
      "            <h5 class=\"card-title\">Python Web Development</h5>\n",
      "            <p class=\"card-text\">If you feel enough confident with python, you are ready to learn how to create your own website!</p>\n",
      "            <a href=\"#\" class=\"btn btn-primary\">Start for 50$</a>\n",
      "         </div>\n",
      "      </div>\n",
      "      <div class=\"card\" id=\"card-python-machine-learning\">\n",
      "         <div class=\"card-header\">\n",
      "            Python\n",
      "         </div>\n",
      "         <div class=\"card-body\">\n",
      "            <h5 class=\"card-title\">Python Machine Learning</h5>\n",
      "            <p class=\"card-text\">Become a Python Machine Learning master!</p>\n",
      "            <a href=\"#\" class=\"btn btn-primary\">Start for 100$</a>\n",
      "         </div>\n",
      "      </div>\n",
      "   </body>\n",
      "</html>\n",
      "\n",
      "Difference between find and find_all - \n",
      "find -  <h5 class=\"card-title\">Python for beginners</h5>\n",
      "find_all -  [<h5 class=\"card-title\">Python for beginners</h5>, <h5 class=\"card-title\">Python Web Development</h5>, <h5 class=\"card-title\">Python Machine Learning</h5>] \n",
      "\n",
      "What is the text of these tags?\n",
      "Python for beginners\n",
      "Python Web Development\n",
      "Python Machine Learning\n"
     ]
    }
   ],
   "source": [
    "with open('home.html', 'r') as html_file:\n",
    "    content = html_file.read()\n",
    "    print('What does the html file contain? \\n', content)\n",
    "    soup = BeautifulSoup(content, 'lxml')\n",
    "    print('\\nDifference between find and find_all - ')\n",
    "    course_html_tags = soup.find('h5')\n",
    "    print('find - ',  course_html_tags)\n",
    "    course_html_tags = soup.find_all('h5')\n",
    "    print('find_all - ', course_html_tags, '\\n')\n",
    "    \n",
    "    print('What is the text of these tags?')\n",
    "    for course in course_html_tags:\n",
    "        print(course.text)"
   ]
  },
  {
   "cell_type": "code",
   "execution_count": 45,
   "id": "930f2b7a",
   "metadata": {},
   "outputs": [
    {
     "name": "stdout",
     "output_type": "stream",
     "text": [
      "Python for beginners costs 20$\n",
      "Python Web Development costs 50$\n",
      "Python Machine Learning costs 100$\n"
     ]
    }
   ],
   "source": [
    "with open('home.html', 'r') as html_file:   \n",
    "    # What is the content of the div tags? The 'card' class have info about the course name and price\n",
    "    course_cards = soup.find_all('div', class_='card')\n",
    "    \n",
    "    for course in course_cards:\n",
    "        # filter only for the 'h5' tag\n",
    "        course_name=course.h5.text\n",
    "         # filter only for the 'a' tag\n",
    "        course_price = course.a.text.split()[-1]\n",
    "        print(course_name, 'costs', course_price)"
   ]
  },
  {
   "cell_type": "markdown",
   "id": "18ede6d2",
   "metadata": {},
   "source": [
    "## Move on to scraping from a job posting site\n",
    "### The web link is copied from the website when filtered for skills = python"
   ]
  },
  {
   "cell_type": "code",
   "execution_count": 53,
   "id": "04f97f56",
   "metadata": {},
   "outputs": [],
   "source": [
    "# Ping the weblink and extract and print its text - \n",
    "html_text = requests.get('https://www.timesjobs.com/candidate/job-search.html?searchType=personalizedSearch&from=submit&txtKeywords=python&txtLocation=').text\n",
    "#print(html_text)"
   ]
  },
  {
   "cell_type": "code",
   "execution_count": 85,
   "id": "6f50c6a3",
   "metadata": {},
   "outputs": [
    {
     "name": "stdout",
     "output_type": "stream",
     "text": [
      "Method 1 -\n",
      "Pure Tech Codex Private Limited\n",
      "\n",
      "Method 2 -\n",
      "Pure Tech Codex Private Limited\n",
      "Posted few days ago\n",
      "\n",
      "Complete Info - \n",
      "Company Name :  Pure Tech Codex Private Limited \n",
      "Required Skills :  rest  ,  python  ,  database  ,  django  ,  debugging  ,  mongodb\n"
     ]
    }
   ],
   "source": [
    "soup = BeautifulSoup(html_text, 'lxml')\n",
    "job = soup.find('li', class_='clearfix job-bx wht-shd-bx')\n",
    "# Find the company name in the following two ways -\n",
    "# Method 1- \n",
    "company_name = job.find('h3', class_='joblist-comp-name').text.replace('\\n','').strip()\n",
    "print('Method 1 -')\n",
    "print(company_name)\n",
    "\n",
    "# Method 2- \n",
    "print('\\nMethod 2 -')\n",
    "print(job.h3.text.replace('\\n','').strip())\n",
    "\n",
    "skills = job.find('span', class_='srp-skills').text.strip()\n",
    "#print(skills)\n",
    "# The published date will be used to filter jobs that are published only a few days ago -\n",
    "job_published_date = job.find('span', class_='sim-posted').text.strip()\n",
    "print(job_published_date)\n",
    "\n",
    "print('\\nComplete Info - \\nCompany Name : ', company_name, '\\nRequired Skills : ', skills)"
   ]
  },
  {
   "cell_type": "code",
   "execution_count": 98,
   "id": "55514001",
   "metadata": {
    "collapsed": true
   },
   "outputs": [
    {
     "name": "stdout",
     "output_type": "stream",
     "text": [
      "\n",
      "Complete Info - \n",
      "Company Name :  Pure Tech Codex Private Limited \n",
      "Required Skills :  rest  ,  python  ,  database  ,  django  ,  debugging  ,  mongodb \n",
      "Job Link :  https://www.timesjobs.com/job-detail/python-pure-tech-codex-private-limited-pune-2-to-3-yrs-jobid-OHwfF0d6EhNzpSvf__PLUS__uAgZw==&source=srp\n",
      "\n",
      "Complete Info - \n",
      "Company Name :  Surya Informatics Solutions Pvt. Ltd. \n",
      "Required Skills :  python  ,  web technologies  ,  linux  ,  mobile  ,  mysql  ,  angularjs  ,  javascript \n",
      "Job Link :  https://www.timesjobs.com/job-detail/python-surya-informatics-solutions-pvt-ltd-chennai-0-to-3-yrs-jobid-UVlLes58wutzpSvf__PLUS__uAgZw==&source=srp\n",
      "\n",
      "Complete Info - \n",
      "Company Name :  TECHNOPARK TRIVANDRUM \n",
      "Required Skills :  rest  ,  python  ,  rest api  ,  team player  ,  database  ,  django  ,  debugging  ,  mysql \n",
      "Job Link :  https://www.timesjobs.com/job-detail/python-technopark-trivandrum-thiruvananthapuram-0-to-3-yrs-jobid-oX__SLASH__yLNPdWkVzpSvf__PLUS__uAgZw==&source=srp\n",
      "\n",
      "Complete Info - \n",
      "Company Name :  Gemini Solutions \n",
      "Required Skills :  python  ,  mobile  ,  svn  ,  nosql  ,  python scripting  ,  git  ,  api  ,  sql database \n",
      "Job Link :  https://www.timesjobs.com/job-detail/qa-python-python-sdet-gemini-solutions-gurgaon-4-to-7-yrs-jobid-eGMLzwOk2QlzpSvf__PLUS__uAgZw==&source=srp\n",
      "\n",
      "Complete Info - \n",
      "Company Name :  Ivan Infotech Pvt. Ltd. \n",
      "Required Skills :  rest  ,  python  ,  security  ,  debugging \n",
      "Job Link :  https://www.timesjobs.com/job-detail/python-developer-ivan-infotech-pvt-ltd-kolkata-2-to-5-yrs-jobid-1h6sLaqbaBZzpSvf__PLUS__uAgZw==&source=srp\n",
      "\n",
      "Complete Info - \n",
      "Company Name :  CONNECTING 2 WORK \n",
      "Required Skills :  rest  ,  python  ,  django  ,  mongodb \n",
      "Job Link :  https://www.timesjobs.com/job-detail/python-trainer-connecting-2-work-calicut-kozhikode-0-to-3-yrs-jobid-kXED__PLUS__hcGqIpzpSvf__PLUS__uAgZw==&source=srp\n",
      "\n",
      "Complete Info - \n",
      "Company Name :  TECHNOPARK TRIVANDRUM \n",
      "Required Skills :  python  ,  django  ,  Knowledge of databases \n",
      "Job Link :  https://www.timesjobs.com/job-detail/python-developer-technopark-trivandrum-thiruvananthapuram-0-to-3-yrs-jobid-zWMQ1__SLASH__Ob8e1zpSvf__PLUS__uAgZw==&source=srp\n",
      "\n",
      "Complete Info - \n",
      "Company Name :  brickred  ( 3pillar global ) \n",
      "Required Skills :  software products  ,  Python  ,  DynamoDB \n",
      "Job Link :  https://www.timesjobs.com/job-detail/python-developer-brickred-3pillar-global-4-to-7-yrs-jobid-yLg2v6MQrzZzpSvf__PLUS__uAgZw==&source=srp\n",
      "\n",
      "Complete Info - \n",
      "Company Name :  hk infosoft \n",
      "Required Skills :  python  ,  django  ,    ,   framework \n",
      "Job Link :  https://www.timesjobs.com/job-detail/python-developer-hk-infosoft-ahmedabad-2-to-3-yrs-jobid-qPkmbRWxs5dzpSvf__PLUS__uAgZw==&source=srp\n",
      "\n",
      "Complete Info - \n",
      "Company Name :  TandA HR Solutions \n",
      "Required Skills :  python  ,  django  ,  sql \n",
      "Job Link :  https://www.timesjobs.com/job-detail/python-developer-tanda-hr-solutions-gurgaon-0-to-3-yrs-jobid-dMtCdFUMRY5zpSvf__PLUS__uAgZw==&source=srp\n",
      "\n",
      "Complete Info - \n",
      "Company Name :  BRICKRED TECHNOLOGIES PVT. LTD. \n",
      "Required Skills :  image processing  ,  python  ,  opencv \n",
      "Job Link :  https://www.timesjobs.com/job-detail/python-developer-brickred-technologies-pvt-ltd-0-to-3-yrs-jobid-gFvdvfbX1XdzpSvf__PLUS__uAgZw==&source=srp\n",
      "\n",
      "Complete Info - \n",
      "Company Name :  BRICKRED TECHNOLOGIES PVT. LTD. \n",
      "Required Skills :  image processing  ,  python  ,  opencv \n",
      "Job Link :  https://www.timesjobs.com/job-detail/python-developer-brickred-technologies-pvt-ltd-0-to-3-yrs-jobid-p9__SLASH__whk__PLUS____PLUS__Ie1zpSvf__PLUS__uAgZw==&source=srp\n",
      "\n",
      "Complete Info - \n",
      "Company Name :  BRICKRED TECHNOLOGIES PVT. LTD. \n",
      "Required Skills :  image processing  ,  python  ,  opencv \n",
      "Job Link :  https://www.timesjobs.com/job-detail/python-developer-brickred-technologies-pvt-ltd-0-to-3-yrs-jobid-LHhOOHnAobhzpSvf__PLUS__uAgZw==&source=srp\n",
      "\n",
      "Complete Info - \n",
      "Company Name :  Perfios Software Solutions Pvt. Ltd. \n",
      "Required Skills :  python  ,  java  ,  scala \n",
      "Job Link :  https://www.timesjobs.com/job-detail/python-developer-perfios-software-solutions-pvt-ltd-bengaluru-bangalore-5-to-8-yrs-jobid-vxzXapFfNqVzpSvf__PLUS__uAgZw==&source=srp\n",
      "\n",
      "Complete Info - \n",
      "Company Name :  TandA HR Solutions \n",
      "Required Skills :  python  ,  git  ,  django \n",
      "Job Link :  https://www.timesjobs.com/job-detail/python-developer-tanda-hr-solutions-chandigarh-5-to-8-yrs-jobid-id252yPhiLZzpSvf__PLUS__uAgZw==&source=srp\n",
      "\n",
      "Complete Info - \n",
      "Company Name :  TandA HR Solutions \n",
      "Required Skills :  python  ,  git  ,  django \n",
      "Job Link :  https://www.timesjobs.com/job-detail/python-developer-tanda-hr-solutions-gurgaon-chandigarh-4-to-6-yrs-jobid-2OM9xzKEDx5zpSvf__PLUS__uAgZw==&source=srp\n",
      "\n",
      "Complete Info - \n",
      "Company Name :  JobsLo Consultants \n",
      "Required Skills :  python  ,  linux  ,  windows  ,  sql \n",
      "Job Link :  https://www.timesjobs.com/job-detail/python-developer-jobslo-consultants-indore-2-to-3-yrs-jobid-XP1detWpoa5zpSvf__PLUS__uAgZw==&source=srp\n",
      "\n",
      "Complete Info - \n",
      "Company Name :  TandA HR Solutions \n",
      "Required Skills :  python  ,  git  ,  django \n",
      "Job Link :  https://www.timesjobs.com/job-detail/python-developers-tanda-hr-solutions-chandigarh-2-to-5-yrs-jobid-OtVSvO0kmYNzpSvf__PLUS__uAgZw==&source=srp\n",
      "\n",
      "Complete Info - \n",
      "Company Name :  LAKSH HUMAN RESOURCE \n",
      "Required Skills :  rest  ,  python  ,  django  ,  git \n",
      "Job Link :  https://www.timesjobs.com/job-detail/python-developer-laksh-human-resource-mumbai-1-to-3-yrs-jobid-Bo79FYBR7__SLASH__5zpSvf__PLUS__uAgZw==&source=srp\n"
     ]
    }
   ],
   "source": [
    "soup = BeautifulSoup(html_text, 'lxml')\n",
    "jobs = soup.find_all('li', class_='clearfix job-bx wht-shd-bx')\n",
    "\n",
    "for job in jobs:\n",
    "    job_published_date = job.find('span', class_='sim-posted').text.strip()\n",
    "    if 'few days' in job_published_date:\n",
    "        company_name = job.find('h3', class_='joblist-comp-name').text.replace('\\n','').strip()\n",
    "        skills = job.find('span', class_='srp-skills').text.strip()\n",
    "        job_link = job.find('header').find('h2').find('a')['href']\n",
    "    \n",
    "        print('\\nComplete Info - \\nCompany Name : ', company_name, '\\nRequired Skills : ', skills\n",
    "             , '\\nJob Link : ', job_link)"
   ]
  },
  {
   "cell_type": "code",
   "execution_count": 102,
   "id": "ff534bbc",
   "metadata": {
    "collapsed": true
   },
   "outputs": [
    {
     "name": "stdout",
     "output_type": "stream",
     "text": [
      "Enter skills that you are not familiar with\n",
      ">django\n",
      "Filtering out unfamiliar skills- django\n",
      "\n",
      "Complete Info - \n",
      "Company Name :  Surya Informatics Solutions Pvt. Ltd. \n",
      "Required Skills :  python  ,  web technologies  ,  linux  ,  mobile  ,  mysql  ,  angularjs  ,  javascript \n",
      "Job Link :  https://www.timesjobs.com/job-detail/python-surya-informatics-solutions-pvt-ltd-chennai-0-to-3-yrs-jobid-UVlLes58wutzpSvf__PLUS__uAgZw==&source=srp\n",
      "\n",
      "Complete Info - \n",
      "Company Name :  Gemini Solutions \n",
      "Required Skills :  python  ,  mobile  ,  svn  ,  nosql  ,  python scripting  ,  git  ,  api  ,  sql database \n",
      "Job Link :  https://www.timesjobs.com/job-detail/qa-python-python-sdet-gemini-solutions-gurgaon-4-to-7-yrs-jobid-eGMLzwOk2QlzpSvf__PLUS__uAgZw==&source=srp\n",
      "\n",
      "Complete Info - \n",
      "Company Name :  Ivan Infotech Pvt. Ltd. \n",
      "Required Skills :  rest  ,  python  ,  security  ,  debugging \n",
      "Job Link :  https://www.timesjobs.com/job-detail/python-developer-ivan-infotech-pvt-ltd-kolkata-2-to-5-yrs-jobid-1h6sLaqbaBZzpSvf__PLUS__uAgZw==&source=srp\n",
      "\n",
      "Complete Info - \n",
      "Company Name :  brickred  ( 3pillar global ) \n",
      "Required Skills :  software products  ,  Python  ,  DynamoDB \n",
      "Job Link :  https://www.timesjobs.com/job-detail/python-developer-brickred-3pillar-global-4-to-7-yrs-jobid-yLg2v6MQrzZzpSvf__PLUS__uAgZw==&source=srp\n",
      "\n",
      "Complete Info - \n",
      "Company Name :  BRICKRED TECHNOLOGIES PVT. LTD. \n",
      "Required Skills :  image processing  ,  python  ,  opencv \n",
      "Job Link :  https://www.timesjobs.com/job-detail/python-developer-brickred-technologies-pvt-ltd-0-to-3-yrs-jobid-gFvdvfbX1XdzpSvf__PLUS__uAgZw==&source=srp\n",
      "\n",
      "Complete Info - \n",
      "Company Name :  BRICKRED TECHNOLOGIES PVT. LTD. \n",
      "Required Skills :  image processing  ,  python  ,  opencv \n",
      "Job Link :  https://www.timesjobs.com/job-detail/python-developer-brickred-technologies-pvt-ltd-0-to-3-yrs-jobid-p9__SLASH__whk__PLUS____PLUS__Ie1zpSvf__PLUS__uAgZw==&source=srp\n",
      "\n",
      "Complete Info - \n",
      "Company Name :  BRICKRED TECHNOLOGIES PVT. LTD. \n",
      "Required Skills :  image processing  ,  python  ,  opencv \n",
      "Job Link :  https://www.timesjobs.com/job-detail/python-developer-brickred-technologies-pvt-ltd-0-to-3-yrs-jobid-LHhOOHnAobhzpSvf__PLUS__uAgZw==&source=srp\n",
      "\n",
      "Complete Info - \n",
      "Company Name :  Perfios Software Solutions Pvt. Ltd. \n",
      "Required Skills :  python  ,  java  ,  scala \n",
      "Job Link :  https://www.timesjobs.com/job-detail/python-developer-perfios-software-solutions-pvt-ltd-bengaluru-bangalore-5-to-8-yrs-jobid-vxzXapFfNqVzpSvf__PLUS__uAgZw==&source=srp\n",
      "\n",
      "Complete Info - \n",
      "Company Name :  JobsLo Consultants \n",
      "Required Skills :  python  ,  linux  ,  windows  ,  sql \n",
      "Job Link :  https://www.timesjobs.com/job-detail/python-developer-jobslo-consultants-indore-2-to-3-yrs-jobid-XP1detWpoa5zpSvf__PLUS__uAgZw==&source=srp\n"
     ]
    }
   ],
   "source": [
    "print('Enter skills that you are not familiar with')\n",
    "unfamiliar_skill = input('>')\n",
    "print('Filtering out unfamiliar skills-', unfamiliar_skill)\n",
    "\n",
    "soup = BeautifulSoup(html_text, 'lxml')\n",
    "jobs = soup.find_all('li', class_='clearfix job-bx wht-shd-bx')\n",
    "\n",
    "for job in jobs:\n",
    "    job_published_date = job.find('span', class_='sim-posted').text.strip()\n",
    "    if 'few days' in job_published_date:\n",
    "        company_name = job.find('h3', class_='joblist-comp-name').text.replace('\\n','').strip()\n",
    "        skills = job.find('span', class_='srp-skills').text.strip()\n",
    "        job_link = job.find('header').find('h2').find('a')['href']\n",
    "        \n",
    "        if unfamiliar_skill.lower() not in skills.lower():\n",
    "            print('\\nComplete Info - \\nCompany Name : ', company_name, '\\nRequired Skills : ', skills\n",
    "             , '\\nJob Link : ', job_link)"
   ]
  },
  {
   "cell_type": "markdown",
   "id": "1cf19f6a",
   "metadata": {},
   "source": [
    "## Combining all the functionalities above into a single function that -\n",
    "1. Given a user input for an unfamiliar skill\n",
    "2. Looks over the recent postings on the job site for skill = Python, among others\n",
    "3. Filters out any listing that may include the unfamiliar skill\n",
    "4. Prints out the posting company, skills needed and the website to get more info about the posting"
   ]
  },
  {
   "cell_type": "code",
   "execution_count": 104,
   "id": "759aeae2",
   "metadata": {},
   "outputs": [],
   "source": [
    "def find_jobs(unfamiliar_skill):\n",
    "    html_text = requests.get('https://www.timesjobs.com/candidate/job-search.html?searchType=personalizedSearch&from=submit&txtKeywords=python&txtLocation=').text\n",
    "    soup = BeautifulSoup(html_text, 'lxml')\n",
    "    jobs = soup.find_all('li', class_='clearfix job-bx wht-shd-bx')\n",
    "    \n",
    "    for job in jobs:\n",
    "        job_published_date = job.find('span', class_='sim-posted').text.strip()\n",
    "        if 'few days' in job_published_date:\n",
    "            company_name = job.find('h3', class_='joblist-comp-name').text.replace('\\n','').strip()\n",
    "            skills = job.find('span', class_='srp-skills').text.strip()\n",
    "            job_link = job.find('header').find('h2').find('a')['href']\n",
    "            \n",
    "            if unfamiliar_skill.lower() not in skills.lower():\n",
    "                print('\\nComplete Info - \\nCompany Name : ', company_name, '\\nRequired Skills : ', skills\n",
    "                 , '\\nJob Link : ', job_link)"
   ]
  },
  {
   "cell_type": "code",
   "execution_count": 105,
   "id": "79c96b7a",
   "metadata": {},
   "outputs": [
    {
     "name": "stdout",
     "output_type": "stream",
     "text": [
      "Enter skills that you are not familiar with\n",
      ">django\n",
      "Filtering out unfamiliar skills- django\n",
      "\n",
      "Complete Info - \n",
      "Company Name :  Surya Informatics Solutions Pvt. Ltd. \n",
      "Required Skills :  python  ,  web technologies  ,  linux  ,  mobile  ,  mysql  ,  angularjs  ,  javascript \n",
      "Job Link :  https://www.timesjobs.com/job-detail/python-surya-informatics-solutions-pvt-ltd-chennai-0-to-3-yrs-jobid-UVlLes58wutzpSvf__PLUS__uAgZw==&source=srp\n",
      "\n",
      "Complete Info - \n",
      "Company Name :  Gemini Solutions \n",
      "Required Skills :  python  ,  mobile  ,  svn  ,  nosql  ,  python scripting  ,  git  ,  api  ,  sql database \n",
      "Job Link :  https://www.timesjobs.com/job-detail/qa-python-python-sdet-gemini-solutions-gurgaon-4-to-7-yrs-jobid-eGMLzwOk2QlzpSvf__PLUS__uAgZw==&source=srp\n",
      "\n",
      "Complete Info - \n",
      "Company Name :  Ivan Infotech Pvt. Ltd. \n",
      "Required Skills :  rest  ,  python  ,  security  ,  debugging \n",
      "Job Link :  https://www.timesjobs.com/job-detail/python-developer-ivan-infotech-pvt-ltd-kolkata-2-to-5-yrs-jobid-1h6sLaqbaBZzpSvf__PLUS__uAgZw==&source=srp\n",
      "\n",
      "Complete Info - \n",
      "Company Name :  brickred  ( 3pillar global ) \n",
      "Required Skills :  software products  ,  Python  ,  DynamoDB \n",
      "Job Link :  https://www.timesjobs.com/job-detail/python-developer-brickred-3pillar-global-4-to-7-yrs-jobid-yLg2v6MQrzZzpSvf__PLUS__uAgZw==&source=srp\n",
      "\n",
      "Complete Info - \n",
      "Company Name :  BRICKRED TECHNOLOGIES PVT. LTD. \n",
      "Required Skills :  image processing  ,  python  ,  opencv \n",
      "Job Link :  https://www.timesjobs.com/job-detail/python-developer-brickred-technologies-pvt-ltd-0-to-3-yrs-jobid-gFvdvfbX1XdzpSvf__PLUS__uAgZw==&source=srp\n",
      "\n",
      "Complete Info - \n",
      "Company Name :  BRICKRED TECHNOLOGIES PVT. LTD. \n",
      "Required Skills :  image processing  ,  python  ,  opencv \n",
      "Job Link :  https://www.timesjobs.com/job-detail/python-developer-brickred-technologies-pvt-ltd-0-to-3-yrs-jobid-p9__SLASH__whk__PLUS____PLUS__Ie1zpSvf__PLUS__uAgZw==&source=srp\n",
      "\n",
      "Complete Info - \n",
      "Company Name :  BRICKRED TECHNOLOGIES PVT. LTD. \n",
      "Required Skills :  image processing  ,  python  ,  opencv \n",
      "Job Link :  https://www.timesjobs.com/job-detail/python-developer-brickred-technologies-pvt-ltd-0-to-3-yrs-jobid-LHhOOHnAobhzpSvf__PLUS__uAgZw==&source=srp\n",
      "\n",
      "Complete Info - \n",
      "Company Name :  Perfios Software Solutions Pvt. Ltd. \n",
      "Required Skills :  python  ,  java  ,  scala \n",
      "Job Link :  https://www.timesjobs.com/job-detail/python-developer-perfios-software-solutions-pvt-ltd-bengaluru-bangalore-5-to-8-yrs-jobid-vxzXapFfNqVzpSvf__PLUS__uAgZw==&source=srp\n",
      "\n",
      "Complete Info - \n",
      "Company Name :  JobsLo Consultants \n",
      "Required Skills :  python  ,  linux  ,  windows  ,  sql \n",
      "Job Link :  https://www.timesjobs.com/job-detail/python-developer-jobslo-consultants-indore-2-to-3-yrs-jobid-XP1detWpoa5zpSvf__PLUS__uAgZw==&source=srp\n"
     ]
    }
   ],
   "source": [
    "print('Enter skills that you are not familiar with')\n",
    "unfamiliar_skill = input('>')\n",
    "print('Filtering out unfamiliar skills-', unfamiliar_skill)\n",
    "\n",
    "find_jobs(unfamiliar_skill)"
   ]
  }
 ],
 "metadata": {
  "kernelspec": {
   "display_name": "Python 3 (ipykernel)",
   "language": "python",
   "name": "python3"
  },
  "language_info": {
   "codemirror_mode": {
    "name": "ipython",
    "version": 3
   },
   "file_extension": ".py",
   "mimetype": "text/x-python",
   "name": "python",
   "nbconvert_exporter": "python",
   "pygments_lexer": "ipython3",
   "version": "3.9.12"
  }
 },
 "nbformat": 4,
 "nbformat_minor": 5
}
